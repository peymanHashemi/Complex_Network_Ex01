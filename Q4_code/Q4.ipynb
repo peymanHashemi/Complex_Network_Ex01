{
 "cells": [
  {
   "cell_type": "markdown",
   "metadata": {},
   "source": [
    "# Peyman hashemi\n",
    "# 400131032"
   ]
  },
  {
   "cell_type": "code",
   "execution_count": 22,
   "metadata": {},
   "outputs": [],
   "source": [
    "import pandas as pd\n",
    "import networkx as nx\n",
    "import matplotlib.pyplot as plt\n",
    "import numpy as np\n",
    "from collections import Counter\n",
    "from numpy.linalg import matrix_power\n",
    "import time"
   ]
  },
  {
   "cell_type": "code",
   "execution_count": 23,
   "metadata": {},
   "outputs": [
    {
     "name": "stdout",
     "output_type": "stream",
     "text": [
      "DiGraph with 18772 nodes and 396160 edges\n"
     ]
    },
    {
     "name": "stderr",
     "output_type": "stream",
     "text": [
      "C:\\Users\\Peter\\AppData\\Local\\Temp\\ipykernel_1908\\1023217827.py:7: DeprecationWarning: info is deprecated and will be removed in version 3.0.\n",
      "\n",
      "  print(nx.info(graph))\n"
     ]
    }
   ],
   "source": [
    "dataset = pd.read_csv('I:\\peter\\AUT\\semister 3\\complex\\EX\\ca-AstroPh.txt\\CA-AstroPh.csv',na_values='?', comment='#', sep='\\t', skipinitialspace=True, header=None)\n",
    "N1 , N2 = dataset[0].tolist() , dataset[1].tolist()\n",
    "list_edges = []\n",
    "for i in range(len(N1)):\n",
    "  list_edges.append((N1[i], N2[i]))\n",
    "graph = nx.DiGraph(list_edges)\n",
    "print(nx.info(graph))\n"
   ]
  },
  {
   "cell_type": "code",
   "execution_count": 24,
   "metadata": {},
   "outputs": [],
   "source": [
    "def graph_maker(graph, n_r, p):\n",
    "    d_list = []\n",
    "\n",
    "    for i in range(n_r):\n",
    "        digraph = nx.DiGraph()\n",
    "        digraph.add_nodes_from(list(graph.nodes))\n",
    "\n",
    "        for edge in (list(graph.edges)):\n",
    "            if np.random.uniform(0, 1, 1)[0] < p:\n",
    "              digraph.add_edge(edge[0],edge[1])\n",
    "\n",
    "        d_list.append(digraph)\n",
    "    return d_list"
   ]
  },
  {
   "cell_type": "code",
   "execution_count": 25,
   "metadata": {},
   "outputs": [
    {
     "name": "stdout",
     "output_type": "stream",
     "text": [
      "DiGraph with 18772 nodes and 3851 edges\n",
      "DiGraph with 18772 nodes and 3997 edges\n",
      "DiGraph with 18772 nodes and 3952 edges\n",
      "DiGraph with 18772 nodes and 3908 edges\n",
      "DiGraph with 18772 nodes and 4022 edges\n",
      "DiGraph with 18772 nodes and 4032 edges\n",
      "DiGraph with 18772 nodes and 4090 edges\n",
      "DiGraph with 18772 nodes and 4066 edges\n",
      "DiGraph with 18772 nodes and 3890 edges\n",
      "DiGraph with 18772 nodes and 4087 edges\n"
     ]
    },
    {
     "name": "stderr",
     "output_type": "stream",
     "text": [
      "C:\\Users\\Peter\\AppData\\Local\\Temp\\ipykernel_1908\\2386865398.py:3: DeprecationWarning: info is deprecated and will be removed in version 3.0.\n",
      "\n",
      "  print(nx.info(l))\n"
     ]
    }
   ],
   "source": [
    "list_r = graph_maker(graph , 10 , 0.01)\n",
    "for l in list_r :\n",
    "  print(nx.info(l))"
   ]
  },
  {
   "cell_type": "code",
   "execution_count": 29,
   "metadata": {},
   "outputs": [],
   "source": [
    "def IC(graph_list, S):\n",
    "    spread = []\n",
    "    for i in range(len(graph_list)):\n",
    "        current_ndoe, A = S[:], S[:]\n",
    "        graph = graph_list[i]\n",
    "\n",
    "        while current_ndoe:\n",
    "            new_nodes = []\n",
    "            for node in current_ndoe:\n",
    "                new_nodes +=  list(set(graph.neighbors(node)))\n",
    "\n",
    "            current_ndoe  = list(set(new_nodes) - set(A))\n",
    "            A += current_ndoe\n",
    "\n",
    "        spread.append(len(A))\n",
    "\n",
    "    return np.mean(spread)"
   ]
  },
  {
   "cell_type": "code",
   "execution_count": 30,
   "metadata": {},
   "outputs": [],
   "source": [
    "def greedy_hill_climbing(list_of_graph, k):\n",
    "    S, spread, timelapse, start_time = [], [], [], time.time()\n",
    "    # Find k nodes with largest marginal gain\n",
    "\n",
    "    for i in range(k):\n",
    "        best_spread = 0\n",
    "\n",
    "        for j in set(list_of_graph[0].nodes) - set(S):\n",
    "            s = IC(list_of_graph, S + [j])\n",
    "\n",
    "            if s >= best_spread:\n",
    "                best_spread, node = s, j\n",
    "\n",
    "        S.append(node)\n",
    "        print(\"number \" + str(i + 1) +\" : \" +str(node)+\"   spread = \"+str(best_spread))\n",
    "        spread.append(best_spread)\n",
    "        timelapse.append(time.time() - start_time)\n",
    "        \n",
    "    return S, spread, timelapse"
   ]
  },
  {
   "cell_type": "code",
   "execution_count": 35,
   "metadata": {},
   "outputs": [
    {
     "name": "stdout",
     "output_type": "stream",
     "text": [
      "number 1 : 93504   spread = 64.0\n",
      "number 2 : 35290   spread = 105.9\n",
      "number 3 : 54681   spread = 138.3\n",
      "number 4 : 46847   spread = 159.1\n",
      "number 5 : 85740   spread = 173.5\n",
      "number 6 : 8273   spread = 187.7\n",
      "number 7 : 38109   spread = 201.1\n",
      "number 8 : 44785   spread = 213.0\n",
      "number 9 : 46572   spread = 223.7\n",
      "number 10 : 77374   spread = 234.4\n",
      "greedy output: [93504, 35290, 54681, 46847, 85740, 8273, 38109, 44785, 46572, 77374]\n"
     ]
    }
   ],
   "source": [
    "result_greedy  = greedy_hill_climbing(list_r, 10)\n",
    "print(\"greedy output: \" + str(result_greedy[0]))"
   ]
  },
  {
   "cell_type": "code",
   "execution_count": 19,
   "metadata": {},
   "outputs": [],
   "source": [
    "def celf(list_of_graph,k):  \n",
    "  \n",
    "    # Calculate the first iteration sorted list\n",
    "    start_time = time.time() \n",
    "    marg_gain = [IC(list_of_graph,[node]) for node in list(graph.nodes)]\n",
    "\n",
    "    # Create the sorted list of nodes and their marginal gain \n",
    "    Q = sorted(zip(list(graph.nodes),marg_gain), key=lambda x: x[1],reverse=True)\n",
    "\n",
    "    # Select the first node and remove from candidate list\n",
    "    S, spread, SPREAD = [Q[0][0]], Q[0][1], [Q[0][1]]\n",
    "    Q, LOOKUPS, timelapse = Q[1:], [graph.nodes], [time.time()-start_time]\n",
    "    \n",
    "    # Find the next k-1 nodes using the list-sorting procedure\n",
    "    \n",
    "    for _ in range(1 , k):    \n",
    "\n",
    "        check, node_lookup = False, 0\n",
    "        \n",
    "        while not check:\n",
    "            \n",
    "            # Count the number of times the spread is computed\n",
    "            node_lookup += 1\n",
    "            \n",
    "            # Recalculate spread of top node\n",
    "            current = Q[0][0]\n",
    "            \n",
    "            # Evaluate the spread function and store the marginal gain in the list\n",
    "            Q[0] = (current,IC(list_of_graph,S+[current]) - spread)\n",
    "\n",
    "            # Re-sort the list\n",
    "            Q = sorted(Q, key = lambda x: x[1], reverse = True)\n",
    "\n",
    "            # Check if previous top node stayed on top after the sort\n",
    "            check = (Q[0][0] == current)\n",
    "\n",
    "        # Select the next node\n",
    "        spread += Q[0][1]\n",
    "        S.append(Q[0][0])\n",
    "        SPREAD.append(spread)\n",
    "        LOOKUPS.append(node_lookup)\n",
    "        timelapse.append(time.time() - start_time)\n",
    "\n",
    "        # Remove the selected node from the list\n",
    "        Q = Q[1:]\n",
    "\n",
    "    return(S,SPREAD,timelapse,LOOKUPS)"
   ]
  },
  {
   "cell_type": "code",
   "execution_count": 32,
   "metadata": {},
   "outputs": [
    {
     "name": "stdout",
     "output_type": "stream",
     "text": [
      "lazy_hill_climbing output:   [93504, 35290, 54681, 46847, 85740, 8273, 38109, 44785, 67890, 77374]\n"
     ]
    }
   ],
   "source": [
    "result_lazy = celf(list_r, 10)\n",
    "print(\"lazy_hill_climbing output:   \" + str(result_lazy[0]))"
   ]
  },
  {
   "cell_type": "code",
   "execution_count": 33,
   "metadata": {},
   "outputs": [
    {
     "data": {
      "text/plain": [
       "<matplotlib.legend.Legend at 0x25f29760610>"
      ]
     },
     "execution_count": 33,
     "metadata": {},
     "output_type": "execute_result"
    },
    {
     "data": {
      "image/png": "[encoded data removed]",
      "text/plain": [
       "<Figure size 900x600 with 1 Axes>"
      ]
     },
     "metadata": {},
     "output_type": "display_data"
    }
   ],
   "source": [
    "plt.rcParams['figure.figsize'] = (9,6)\n",
    "plt.rcParams['lines.linewidth'] = 4\n",
    "plt.rcParams['xtick.bottom'] = False\n",
    "plt.rcParams['ytick.left'] = False\n",
    "plt.subplots()\n",
    "plt.plot(range(1, len(result_greedy[2]) + 1), result_greedy[2], label=\"greedy\", color=\"g\")\n",
    "plt.plot(range(1, len(result_lazy[2]) + 1), result_lazy[2], label=\"lazy\", color=\"b\")\n",
    "plt.ylabel('Computation Time (Seconds)')\n",
    "plt.xlabel('Size of Seed Set')\n",
    "plt.title('Computation Time')\n",
    "plt.legend(loc=2)"
   ]
  },
  {
   "cell_type": "code",
   "execution_count": null,
   "metadata": {},
   "outputs": [],
   "source": []
  }
 ],
 "metadata": {
  "kernelspec": {
   "display_name": "Python 3.11.0 64-bit",
   "language": "python",
   "name": "python3"
  },
  "language_info": {
   "codemirror_mode": {
    "name": "ipython",
    "version": 3
   },
   "file_extension": ".py",
   "mimetype": "text/x-python",
   "name": "python",
   "nbconvert_exporter": "python",
   "pygments_lexer": "ipython3",
   "version": "3.11.0"
  },
  "orig_nbformat": 4,
  "vscode": {
   "interpreter": {
    "hash": "6786e3e757074d8ee7964e6bc2095880069b6c190153cbef7383f3d3eb8b98a8"
   }
  }
 },
 "nbformat": 4,
 "nbformat_minor": 2
}
